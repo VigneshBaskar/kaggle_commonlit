{
 "cells": [
  {
   "cell_type": "code",
   "execution_count": null,
   "id": "d50bcf46-2026-42e8-bb8a-cd677f7f3c19",
   "metadata": {},
   "outputs": [],
   "source": [
    "import os\n",
    "import torch\n",
    "import pandas as pd\n",
    "\n",
    "from transformers import AdamW, AutoTokenizer\n",
    "from commonlit_nn_kit import seed_everything, clear_cuda, forward_pass_uno_text_batch\n",
    "from commonlit_nn_kit import get_scheduler, get_optimizer_parameters, create_uno_text_dataloader, get_linear_schedule_with_warmup\n",
    "from commonlit_nn_kit import compute_mse_loss, compute_rmse_loss, compute_rmse_score, train_and_evaluate, Saver, UnoStacker, RobertaMaskAddedAttentionHeadRegressor, RobertaBigLinearMaskAddedAttentionHeadRegressor"
   ]
  }
 ],
 "metadata": {
  "kernelspec": {
   "display_name": "Python 3 (ipykernel)",
   "language": "python",
   "name": "python3"
  },
  "language_info": {
   "codemirror_mode": {
    "name": "ipython",
    "version": 3
   },
   "file_extension": ".py",
   "mimetype": "text/x-python",
   "name": "python",
   "nbconvert_exporter": "python",
   "pygments_lexer": "ipython3",
   "version": "3.8.10"
  }
 },
 "nbformat": 4,
 "nbformat_minor": 5
}
